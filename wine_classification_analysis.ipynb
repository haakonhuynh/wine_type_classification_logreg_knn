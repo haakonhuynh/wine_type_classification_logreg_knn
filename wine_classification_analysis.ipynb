{
  "nbformat": 4,
  "nbformat_minor": 0,
  "metadata": {
    "colab": {
      "provenance": [],
      "include_colab_link": true
    },
    "kernelspec": {
      "name": "python3",
      "display_name": "Python 3"
    },
    "language_info": {
      "name": "python"
    }
  },
  "cells": [
    {
      "cell_type": "markdown",
      "metadata": {
        "id": "view-in-github",
        "colab_type": "text"
      },
      "source": [
        "<a href=\"https://colab.research.google.com/github/haakonhuynh/wine_type_classification_logreg_knn/blob/main/wine_classification_analysis.ipynb\" target=\"_parent\"><img src=\"https://colab.research.google.com/assets/colab-badge.svg\" alt=\"Open In Colab\"/></a>"
      ]
    },
    {
      "cell_type": "markdown",
      "source": [
        "# 🍷 Classifying Wine Types with Machine Learning\n",
        "This notebook trains classification models to predict whether a wine is red or white based on chemical features like pH, acidity, and alcohol.\n"
      ],
      "metadata": {
        "id": "TFTctx4vTTtK"
      }
    },
    {
      "cell_type": "markdown",
      "source": [
        "#Initializing and importing datasets"
      ],
      "metadata": {
        "id": "_mF21CMdZzcn"
      }
    },
    {
      "cell_type": "code",
      "source": [
        "import pandas as pd\n",
        "\n",
        "red_wine_url = \"https://archive.ics.uci.edu/ml/machine-learning-databases/wine\\\n",
        "-quality/winequality-red.csv\"\n",
        "white_wine_url = \"https://archive.ics.uci.edu/ml/machine-learning-databases/win\\\n",
        "e-quality/winequality-white.csv\"\n",
        "\n",
        "df_white = pd.read_csv(white_wine_url, sep=';')\n",
        "df_red = pd.read_csv(red_wine_url, sep=';')\n",
        "\n",
        "\n",
        "print(\"Red Wine Data:\")\n",
        "print(df_red.head(5))\n",
        "\n",
        "print(\"\\nWhite Wine Data:\")\n",
        "print(df_white.head(5))\n"
      ],
      "metadata": {
        "colab": {
          "base_uri": "https://localhost:8080/"
        },
        "id": "aYEAbgjtZ1zY",
        "outputId": "20795fe1-13b1-45a0-ff38-3923e2532ce7"
      },
      "execution_count": null,
      "outputs": [
        {
          "output_type": "stream",
          "name": "stdout",
          "text": [
            "Red Wine Data:\n",
            "   fixed acidity  volatile acidity  citric acid  residual sugar  chlorides  \\\n",
            "0            7.4              0.70         0.00             1.9      0.076   \n",
            "1            7.8              0.88         0.00             2.6      0.098   \n",
            "2            7.8              0.76         0.04             2.3      0.092   \n",
            "3           11.2              0.28         0.56             1.9      0.075   \n",
            "4            7.4              0.70         0.00             1.9      0.076   \n",
            "\n",
            "   free sulfur dioxide  total sulfur dioxide  density    pH  sulphates  \\\n",
            "0                 11.0                  34.0   0.9978  3.51       0.56   \n",
            "1                 25.0                  67.0   0.9968  3.20       0.68   \n",
            "2                 15.0                  54.0   0.9970  3.26       0.65   \n",
            "3                 17.0                  60.0   0.9980  3.16       0.58   \n",
            "4                 11.0                  34.0   0.9978  3.51       0.56   \n",
            "\n",
            "   alcohol  quality  \n",
            "0      9.4        5  \n",
            "1      9.8        5  \n",
            "2      9.8        5  \n",
            "3      9.8        6  \n",
            "4      9.4        5  \n",
            "\n",
            "White Wine Data:\n",
            "   fixed acidity  volatile acidity  citric acid  residual sugar  chlorides  \\\n",
            "0            7.0              0.27         0.36            20.7      0.045   \n",
            "1            6.3              0.30         0.34             1.6      0.049   \n",
            "2            8.1              0.28         0.40             6.9      0.050   \n",
            "3            7.2              0.23         0.32             8.5      0.058   \n",
            "4            7.2              0.23         0.32             8.5      0.058   \n",
            "\n",
            "   free sulfur dioxide  total sulfur dioxide  density    pH  sulphates  \\\n",
            "0                 45.0                 170.0   1.0010  3.00       0.45   \n",
            "1                 14.0                 132.0   0.9940  3.30       0.49   \n",
            "2                 30.0                  97.0   0.9951  3.26       0.44   \n",
            "3                 47.0                 186.0   0.9956  3.19       0.40   \n",
            "4                 47.0                 186.0   0.9956  3.19       0.40   \n",
            "\n",
            "   alcohol  quality  \n",
            "0      8.8        6  \n",
            "1      9.5        6  \n",
            "2     10.1        6  \n",
            "3      9.9        6  \n",
            "4      9.9        6  \n"
          ]
        }
      ]
    },
    {
      "cell_type": "markdown",
      "source": [
        "#Combining the two datasets into one for analysis"
      ],
      "metadata": {
        "id": "perG0J5MdIhD"
      }
    },
    {
      "cell_type": "code",
      "source": [
        "# Add the 'winetype' column: 0 for white wine, 1 for red wine\n",
        "df_red[\"winetype\"] = 1\n",
        "df_white[\"winetype\"] = 0\n",
        "\n",
        "# Combine into one dataframe\n",
        "df_combined = pd.concat([df_red, df_white], axis=0).reset_index(drop=True)\n",
        "\n",
        "# Display first 3 and last 3 rows\n",
        "print(df_combined.head(3))\n",
        "print(df_combined.tail(3))"
      ],
      "metadata": {
        "id": "xZAi9irLpK-j",
        "colab": {
          "base_uri": "https://localhost:8080/"
        },
        "outputId": "f895692d-8e02-4659-813b-e0381e9c24e8"
      },
      "execution_count": null,
      "outputs": [
        {
          "output_type": "stream",
          "name": "stdout",
          "text": [
            "   fixed acidity  volatile acidity  citric acid  residual sugar  chlorides  \\\n",
            "0            7.4              0.70         0.00             1.9      0.076   \n",
            "1            7.8              0.88         0.00             2.6      0.098   \n",
            "2            7.8              0.76         0.04             2.3      0.092   \n",
            "\n",
            "   free sulfur dioxide  total sulfur dioxide  density    pH  sulphates  \\\n",
            "0                 11.0                  34.0   0.9978  3.51       0.56   \n",
            "1                 25.0                  67.0   0.9968  3.20       0.68   \n",
            "2                 15.0                  54.0   0.9970  3.26       0.65   \n",
            "\n",
            "   alcohol  quality  winetype  \n",
            "0      9.4        5         1  \n",
            "1      9.8        5         1  \n",
            "2      9.8        5         1  \n",
            "      fixed acidity  volatile acidity  citric acid  residual sugar  chlorides  \\\n",
            "6494            6.5              0.24         0.19             1.2      0.041   \n",
            "6495            5.5              0.29         0.30             1.1      0.022   \n",
            "6496            6.0              0.21         0.38             0.8      0.020   \n",
            "\n",
            "      free sulfur dioxide  total sulfur dioxide  density    pH  sulphates  \\\n",
            "6494                 30.0                 111.0  0.99254  2.99       0.46   \n",
            "6495                 20.0                 110.0  0.98869  3.34       0.38   \n",
            "6496                 22.0                  98.0  0.98941  3.26       0.32   \n",
            "\n",
            "      alcohol  quality  winetype  \n",
            "6494      9.4        6         0  \n",
            "6495     12.8        7         0  \n",
            "6496     11.8        6         0  \n"
          ]
        }
      ]
    },
    {
      "cell_type": "markdown",
      "source": [
        "#Displaying histograms to understand distribution of three variables hypothesized to predict wine type"
      ],
      "metadata": {
        "id": "mWof2JbYdn9_"
      }
    },
    {
      "cell_type": "code",
      "source": [
        "import matplotlib.pyplot as plt\n",
        "import seaborn as sns\n",
        "\n",
        "sns.set_style(\"whitegrid\")\n",
        "\n",
        "plt.figure(figsize=(6,5))\n",
        "\n",
        "# Histogram for winetype\n",
        "plt.subplot(2, 2, 1)\n",
        "sns.countplot(x=\"winetype\", data=df_combined, hue=\"winetype\", palette=\"viridis\",\n",
        "              legend=False)\n",
        "plt.title(\"Distribution of Wine Type\")\n",
        "plt.xticks([0, 1], [\"White Wine\", \"Red Wine\"])\n",
        "\n",
        "# Histogram for sulphates\n",
        "plt.subplot(2, 2, 2)\n",
        "sns.histplot(df_combined[\"sulphates\"], bins=30, color=\"blue\")\n",
        "plt.title(\"Distribution of Sulphates\")\n",
        "\n",
        "# Histogram for citric acid\n",
        "plt.subplot(2, 2, 3)\n",
        "sns.histplot(df_combined[\"citric acid\"], bins=30, color=\"green\")\n",
        "plt.title(\"Distribution of Citric Acid\")\n",
        "\n",
        "# Histogram for pH\n",
        "plt.subplot(2, 2, 4)\n",
        "sns.histplot(df_combined[\"pH\"], bins=30, color=\"red\")\n",
        "plt.title(\"Distribution of pH\")\n",
        "\n",
        "plt.tight_layout()\n",
        "plt.show()\n",
        "\n",
        "\n"
      ],
      "metadata": {
        "colab": {
          "base_uri": "https://localhost:8080/",
          "height": 507
        },
        "id": "f7ZbaPRndKmY",
        "outputId": "4b666351-6ab7-48b3-a920-0ad7f9d537c9"
      },
      "execution_count": null,
      "outputs": [
        {
          "output_type": "display_data",
          "data": {
            "text/plain": [
              "<Figure size 600x500 with 4 Axes>"
            ],
            "image/png": "[encoded data removed]"
          },
          "metadata": {}
        }
      ]
    },
    {
      "cell_type": "markdown",
      "source": [
        "#Conducting the classifiation task using logistic regression"
      ],
      "metadata": {
        "id": "Kk_sodthiJoz"
      }
    },
    {
      "cell_type": "code",
      "source": [
        "#Logistic Regression\n",
        "from sklearn.preprocessing import StandardScaler\n",
        "from sklearn.model_selection import train_test_split\n",
        "from sklearn.linear_model import LogisticRegression\n",
        "\n",
        "# Define features (X) and target (y)\n",
        "X = df_combined[['fixed acidity', 'volatile acidity', 'citric acid',\n",
        "                 'residual sugar',\n",
        "                 'chlorides', 'free sulfur dioxide', 'total sulfur dioxide',\n",
        "                 'density',\n",
        "                 'sulphates', 'alcohol', 'quality']]\n",
        "y = df_combined['winetype']\n",
        "\n",
        "# Split the dataset\n",
        "X_train_wine, X_test_wine, y_train_wine, y_test_wine = \\\n",
        "train_test_split(X, y, random_state=42)\n",
        "\n",
        "# Standardize features\n",
        "scaler = StandardScaler()\n",
        "X_train_wine = scaler.fit_transform(X_train_wine)\n",
        "X_test_wine = scaler.transform(X_test_wine)\n",
        "\n",
        "# Fit Logistic Regression with more iterations\n",
        "logreg = LogisticRegression(penalty=None, solver=\"lbfgs\",\n",
        "                            max_iter=500).fit(X_train_wine, y_train_wine)\n",
        "\n",
        "# Print results\n",
        "print(\"logreg.coef_:\\n\", logreg.coef_)\n",
        "print(\"Training set score: {:.3f}\"\n",
        ".format(logreg.score(X_train_wine, y_train_wine)))\n",
        "print(\"Test set score: {:.3f}\"\n",
        ".format(logreg.score(X_test_wine, y_test_wine)))\n",
        "\n",
        "# Predictions\n",
        "predicted_vals = logreg.predict(X_test_wine)\n",
        "print(\"logreg.predict:\\n\", predicted_vals)\n",
        "\n",
        "# cross-validation\n",
        "logreg_cv_score_wine = np.mean(cross_val_score\n",
        " (logreg, X_train_wine, y_train_wine, cv=10, scoring='accuracy'))\n",
        "print(\"Logistic Regression Cross-Validation Score: {:.3f}\"\n",
        ".format(logreg_cv_score_wine))\n"
      ],
      "metadata": {
        "colab": {
          "base_uri": "https://localhost:8080/"
        },
        "id": "Ahq9k8Ozdpz8",
        "outputId": "5c915448-0768-4e40-fdfc-14ca03ce9b25"
      },
      "execution_count": null,
      "outputs": [
        {
          "output_type": "stream",
          "name": "stdout",
          "text": [
            "logreg.coef_:\n",
            " [[ 0.22972234  1.59238628 -0.29603292 -4.98569648  0.79303569  1.29153171\n",
            "  -3.18526896  4.56074912  0.63827788  1.52464777  0.35192895]]\n",
            "Training set score: 0.994\n",
            "Test set score: 0.991\n",
            "logreg.predict:\n",
            " [0 1 0 ... 0 0 0]\n",
            "Logistic Regression Cross-Validation Score: 0.994\n"
          ]
        }
      ]
    },
    {
      "cell_type": "code",
      "source": [
        "#Penalized Logistic Regression\n",
        "penlogreg = LogisticRegression(C=100, penalty='l2')\\\n",
        ".fit(X_train_wine, y_train_wine)\n",
        "\n",
        "print(\"penlogreg .coef_: {}\".format(penlogreg.coef_))\n",
        "\n",
        "print(\"Training set score: {:.3f}\".format(penlogreg.score\\\n",
        " (X_train_wine, y_train_wine)))\n",
        "print(\"Test set score: {:.3f}\".format(penlogreg.score\\\n",
        " (X_test_wine, y_test_wine)))\n",
        "\n",
        "penlog_predicted_vals = penlogreg.predict(X_test_wine)\n",
        "print(\"penlogreg.predict: {}\".format(penlog_predicted_vals))\n",
        "\n",
        "# cross-validation\n",
        "penlogreg_cv_score_wine = np.mean(cross_val_score(logreg,\\\n",
        "X_train_wine, y_train_wine, cv=10, scoring='accuracy'))\n",
        "\n",
        "print(\"Logistic Regression Cross-Validation Score: {:.3f}\".format\\\n",
        " (penlogreg_cv_score_wine))\n",
        "\n",
        "\n"
      ],
      "metadata": {
        "id": "BsAxZIAdpK8o",
        "colab": {
          "base_uri": "https://localhost:8080/"
        },
        "outputId": "65a724fb-9492-487f-9627-b4a61fe9901b"
      },
      "execution_count": null,
      "outputs": [
        {
          "output_type": "stream",
          "name": "stdout",
          "text": [
            "penlogreg .coef_: [[ 0.23191208  1.59031509 -0.29640183 -4.96048884  0.79247026  1.28484035\n",
            "  -3.1791436   4.54066976  0.6406676   1.5152504   0.35094705]]\n",
            "Training set score: 0.994\n",
            "Test set score: 0.991\n",
            "penlogreg.predict: [0 1 0 ... 0 0 0]\n",
            "Logistic Regression Cross-Validation Score: 0.994\n"
          ]
        }
      ]
    },
    {
      "cell_type": "code",
      "source": [
        "from sklearn.neighbors import KNeighborsClassifier\n",
        "from sklearn.preprocessing import StandardScaler\n",
        "from sklearn.model_selection import cross_val_score\n",
        "import numpy as np\n",
        "\n",
        "# Scale the training data\n",
        "scaler = StandardScaler()\n",
        "X_train_scaled_wine = scaler.fit_transform(X_train_wine)\n",
        "X_test_scaled_wine = scaler.transform(X_test_wine)\n",
        "\n",
        "# Initialize and train the KNN classifier\n",
        "knn = KNeighborsClassifier(n_neighbors=5)\n",
        "knn.fit(X_train_scaled_wine, y_train_wine)\n",
        "\n",
        "# Perform cross-validation on the training data\n",
        "print(\"KNN Training set score: {:.3f}\".format(knn.score\\\n",
        " (X_train_scaled_wine, y_train_wine)))\n",
        "\n",
        "print(\"KNN Test set score: {:.3f}\".format(knn.score\\\n",
        " (X_test_scaled_wine, y_test_wine)))\n",
        "\n",
        "KNN_predicted_vals = knn.predict(X_test_scaled_wine)\n",
        "# Cross-validation\n",
        "knn_cv_score_wine = np.mean(cross_val_score\\\n",
        " (knn, X_train_scaled_wine, y_train_wine, cv=10, scoring='accuracy'))\n",
        "print(\"KNN.predict: {}\".format(KNN_predicted_vals))\n",
        "print(\"KNN Classification Cross-Validation Score: {:.3f}\"\\\n",
        "      .format(knn_cv_score_wine))\n",
        "\n"
      ],
      "metadata": {
        "colab": {
          "base_uri": "https://localhost:8080/"
        },
        "id": "rCD5tbyXy7Oy",
        "outputId": "c6db9bac-dab4-4e51-9c09-f79d22581861"
      },
      "execution_count": null,
      "outputs": [
        {
          "output_type": "stream",
          "name": "stdout",
          "text": [
            "KNN Training set score: 0.995\n",
            "KNN Test set score: 0.991\n",
            "KNN.predict: [0 1 0 ... 0 0 0]\n",
            "KNN Classification Cross-Validation Score: 0.993\n"
          ]
        }
      ]
    },
    {
      "cell_type": "markdown",
      "source": [
        "The three models classify with very similar accuracy around 99.1%. KNN scores very marginally worse and with lower cross validation scores."
      ],
      "metadata": {
        "id": "q56il2nq46PN"
      }
    },
    {
      "cell_type": "markdown",
      "source": [
        "#Investigating the effect of scaling data on each model"
      ],
      "metadata": {
        "id": "pyK1rkZ27vMH"
      }
    },
    {
      "cell_type": "code",
      "source": [
        "from sklearn.preprocessing import StandardScaler\n",
        "from sklearn.model_selection import train_test_split, cross_val_score\n",
        "from sklearn.linear_model import LogisticRegression\n",
        "import numpy as np\n",
        "\n",
        "X = df_combined[['fixed acidity', 'volatile acidity', 'citric acid',\\\n",
        "                 'residual sugar',\n",
        "                 'chlorides', 'free sulfur dioxide', 'total sulfur dioxide',\\\n",
        "                 'density',\n",
        "                 'sulphates', 'alcohol', 'quality']]\n",
        "y = df_combined['winetype']\n",
        "\n",
        "X_train_wine, X_test_wine, y_train_wine, y_test_wine = train_test_split\\\n",
        " (X, y, random_state=42)\n",
        "\n",
        "### **1. Logistic Regression Without Scaling**\n",
        "logreg_no_scaling = LogisticRegression(penalty=None, solver=\"lbfgs\",\\\n",
        "                                       max_iter=500)\n",
        "logreg_no_scaling.fit(X_train_wine, y_train_wine)\n",
        "\n",
        "print(\"\\n--- Logistic Regression WITHOUT Scaling ---\")\n",
        "print(\"Training set score (No Scaling): {:.3f}\"\\\n",
        "      .format(logreg_no_scaling.score(X_train_wine, y_train_wine)))\n",
        "\n",
        "print(\"Test set score (No Scaling): {:.3f}\"\\\n",
        "      .format(logreg_no_scaling.score(X_test_wine, y_test_wine)))\n",
        "\n",
        "logreg_cv_score_no_scaling = np.mean(cross_val_score\\\n",
        " (logreg_no_scaling, X_train_wine, y_train_wine, cv=10, scoring='accuracy'))\n",
        "print(\"Cross-Validation Score (No Scaling): {:.3f}\"\\\n",
        "      .format(logreg_cv_score_no_scaling))\n",
        "\n",
        "### **2. Logistic Regression With Scaling**\n",
        "scaler = StandardScaler()\n",
        "X_train_scaled_wine = scaler.fit_transform(X_train_wine)\n",
        "X_test_scaled_wine = scaler.transform(X_test_wine)\n",
        "\n",
        "logreg_scaled = LogisticRegression(penalty=None, solver=\"lbfgs\", max_iter=500)\n",
        "logreg_scaled.fit(X_train_scaled_wine, y_train_wine)\n",
        "\n",
        "print(\"\\n--- Logistic Regression WITH Scaling ---\")\n",
        "\n",
        "print(\"Training set score (With Scaling): {:.3f}\".format\\\n",
        " (logreg_scaled.score(X_train_scaled_wine, y_train_wine)))\n",
        "\n",
        "print(\"Test set score (With Scaling): {:.3f}\".format\\\n",
        " (logreg_scaled.score(X_test_scaled_wine, y_test_wine)))\n",
        "\n",
        "logreg_cv_score_scaled = np.mean(cross_val_score\\\n",
        " (logreg_scaled, X_train_scaled_wine, y_train_wine, cv=10, scoring='accuracy'))\n",
        "\n",
        "print(\"Cross-Validation Score (With Scaling): {:.3f}\"\\\n",
        "      .format(logreg_cv_score_scaled))\n"
      ],
      "metadata": {
        "colab": {
          "base_uri": "https://localhost:8080/"
        },
        "id": "AqfubmN08W6z",
        "outputId": "b1aede05-4efe-46a0-d8c7-723f285077ad"
      },
      "execution_count": null,
      "outputs": [
        {
          "output_type": "stream",
          "name": "stderr",
          "text": [
            "/usr/local/lib/python3.11/dist-packages/sklearn/linear_model/_logistic.py:465: ConvergenceWarning: lbfgs failed to converge (status=1):\n",
            "STOP: TOTAL NO. of ITERATIONS REACHED LIMIT.\n",
            "\n",
            "Increase the number of iterations (max_iter) or scale the data as shown in:\n",
            "    https://scikit-learn.org/stable/modules/preprocessing.html\n",
            "Please also refer to the documentation for alternative solver options:\n",
            "    https://scikit-learn.org/stable/modules/linear_model.html#logistic-regression\n",
            "  n_iter_i = _check_optimize_result(\n"
          ]
        },
        {
          "output_type": "stream",
          "name": "stdout",
          "text": [
            "\n",
            "--- Logistic Regression WITHOUT Scaling ---\n",
            "Training set score (No Scaling): 0.986\n",
            "Test set score (No Scaling): 0.979\n"
          ]
        },
        {
          "output_type": "stream",
          "name": "stderr",
          "text": [
            "/usr/local/lib/python3.11/dist-packages/sklearn/linear_model/_logistic.py:465: ConvergenceWarning: lbfgs failed to converge (status=1):\n",
            "STOP: TOTAL NO. of ITERATIONS REACHED LIMIT.\n",
            "\n",
            "Increase the number of iterations (max_iter) or scale the data as shown in:\n",
            "    https://scikit-learn.org/stable/modules/preprocessing.html\n",
            "Please also refer to the documentation for alternative solver options:\n",
            "    https://scikit-learn.org/stable/modules/linear_model.html#logistic-regression\n",
            "  n_iter_i = _check_optimize_result(\n",
            "/usr/local/lib/python3.11/dist-packages/sklearn/linear_model/_logistic.py:465: ConvergenceWarning: lbfgs failed to converge (status=1):\n",
            "STOP: TOTAL NO. of ITERATIONS REACHED LIMIT.\n",
            "\n",
            "Increase the number of iterations (max_iter) or scale the data as shown in:\n",
            "    https://scikit-learn.org/stable/modules/preprocessing.html\n",
            "Please also refer to the documentation for alternative solver options:\n",
            "    https://scikit-learn.org/stable/modules/linear_model.html#logistic-regression\n",
            "  n_iter_i = _check_optimize_result(\n",
            "/usr/local/lib/python3.11/dist-packages/sklearn/linear_model/_logistic.py:465: ConvergenceWarning: lbfgs failed to converge (status=1):\n",
            "STOP: TOTAL NO. of ITERATIONS REACHED LIMIT.\n",
            "\n",
            "Increase the number of iterations (max_iter) or scale the data as shown in:\n",
            "    https://scikit-learn.org/stable/modules/preprocessing.html\n",
            "Please also refer to the documentation for alternative solver options:\n",
            "    https://scikit-learn.org/stable/modules/linear_model.html#logistic-regression\n",
            "  n_iter_i = _check_optimize_result(\n",
            "/usr/local/lib/python3.11/dist-packages/sklearn/linear_model/_logistic.py:465: ConvergenceWarning: lbfgs failed to converge (status=1):\n",
            "STOP: TOTAL NO. of ITERATIONS REACHED LIMIT.\n",
            "\n",
            "Increase the number of iterations (max_iter) or scale the data as shown in:\n",
            "    https://scikit-learn.org/stable/modules/preprocessing.html\n",
            "Please also refer to the documentation for alternative solver options:\n",
            "    https://scikit-learn.org/stable/modules/linear_model.html#logistic-regression\n",
            "  n_iter_i = _check_optimize_result(\n"
          ]
        },
        {
          "output_type": "stream",
          "name": "stdout",
          "text": [
            "Cross-Validation Score (No Scaling): 0.986\n",
            "\n",
            "--- Logistic Regression WITH Scaling ---\n",
            "Training set score (With Scaling): 0.994\n",
            "Test set score (With Scaling): 0.991\n",
            "Cross-Validation Score (With Scaling): 0.994\n"
          ]
        }
      ]
    },
    {
      "cell_type": "markdown",
      "source": [
        "For Logistic Regression, without scaling the data, the algorithm does not fully converge before reaching the default iteration limit. This means that the loss function did not reach its minimum and we did not find the optimal coefficients."
      ],
      "metadata": {
        "id": "bRslwLe88rQU"
      }
    },
    {
      "cell_type": "code",
      "source": [
        "from sklearn.preprocessing import StandardScaler\n",
        "from sklearn.model_selection import train_test_split, cross_val_score\n",
        "from sklearn.linear_model import LogisticRegression\n",
        "import numpy as np\n",
        "\n",
        "# Define features (X) and target (y)\n",
        "X = df_combined[['fixed acidity', 'volatile acidity', 'citric acid', \\\n",
        "                 'residual sugar',\n",
        "                 'chlorides', 'free sulfur dioxide', 'total sulfur dioxide',\\\n",
        "                 'density',\n",
        "                 'sulphates', 'alcohol', 'quality']]\n",
        "y = df_combined['winetype']\n",
        "\n",
        "# Split the dataset\n",
        "X_train_wine, X_test_wine, y_train_wine, y_test_wine = train_test_split\\\n",
        " (X, y, random_state=42)\n",
        "\n",
        "### **1. Penalized Logistic Regression Without Scaling**\n",
        "penlogreg_no_scaling = LogisticRegression(C=100, penalty='l2', \\\n",
        "                                          solver=\"lbfgs\", max_iter=500)\n",
        "penlogreg_no_scaling.fit(X_train_wine, y_train_wine)\n",
        "\n",
        "print(\"\\n--- Penalized Logistic Regression WITHOUT Scaling ---\")\n",
        "\n",
        "print(\"Training set score (No Scaling): {:.3f}\".format\\\n",
        " (penlogreg_no_scaling.score(X_train_wine, y_train_wine)))\n",
        "\n",
        "print(\"Test set score (No Scaling): {:.3f}\".format\\\n",
        " (penlogreg_no_scaling.score(X_test_wine, y_test_wine)))\n",
        "\n",
        "penlogreg_cv_score_no_scaling = np.mean(cross_val_score\\\n",
        " (penlogreg_no_scaling, X_train_wine, y_train_wine, cv=10, scoring='accuracy'))\n",
        "print(\"Cross-Validation Score (No Scaling): {:.3f}\".\\\n",
        "      format(penlogreg_cv_score_no_scaling))\n",
        "\n",
        "### **2. Penalized Logistic Regression With Scaling**\n",
        "scaler = StandardScaler()\n",
        "X_train_scaled_wine = scaler.fit_transform(X_train_wine)\n",
        "X_test_scaled_wine = scaler.transform(X_test_wine)\n",
        "\n",
        "penlogreg_scaled = LogisticRegression(C=100, penalty='l2', \\\n",
        "                                      solver=\"lbfgs\", max_iter=500)\n",
        "penlogreg_scaled.fit(X_train_scaled_wine, y_train_wine)\n",
        "\n",
        "print(\"\\n--- Penalized Logistic Regression WITH Scaling ---\")\n",
        "print(\"Training set score (With Scaling): {:.3f}\".\\\n",
        "      format(penlogreg_scaled.score(X_train_scaled_wine, y_train_wine)))\n",
        "print(\"Test set score (With Scaling): {:.3f}\".format\\\n",
        " (penlogreg_scaled.score(X_test_scaled_wine, y_test_wine)))\n",
        "\n",
        "penlogreg_cv_score_scaled = np.mean(cross_val_score(penlogreg_scaled,\\\n",
        "X_train_scaled_wine, y_train_wine, cv=10, scoring='accuracy'))\n",
        "\n",
        "print(\"Cross-Validation Score (With Scaling): {:.3f}\"\\\n",
        "      .format(penlogreg_cv_score_scaled))\n"
      ],
      "metadata": {
        "colab": {
          "base_uri": "https://localhost:8080/"
        },
        "id": "Lchc9sz6-Uuw",
        "outputId": "fba0c19f-c8f9-4555-864e-265e7ef68516"
      },
      "execution_count": null,
      "outputs": [
        {
          "output_type": "stream",
          "name": "stderr",
          "text": [
            "/usr/local/lib/python3.11/dist-packages/sklearn/linear_model/_logistic.py:465: ConvergenceWarning: lbfgs failed to converge (status=1):\n",
            "STOP: TOTAL NO. of ITERATIONS REACHED LIMIT.\n",
            "\n",
            "Increase the number of iterations (max_iter) or scale the data as shown in:\n",
            "    https://scikit-learn.org/stable/modules/preprocessing.html\n",
            "Please also refer to the documentation for alternative solver options:\n",
            "    https://scikit-learn.org/stable/modules/linear_model.html#logistic-regression\n",
            "  n_iter_i = _check_optimize_result(\n"
          ]
        },
        {
          "output_type": "stream",
          "name": "stdout",
          "text": [
            "\n",
            "--- Penalized Logistic Regression WITHOUT Scaling ---\n",
            "Training set score (No Scaling): 0.986\n",
            "Test set score (No Scaling): 0.978\n"
          ]
        },
        {
          "output_type": "stream",
          "name": "stderr",
          "text": [
            "/usr/local/lib/python3.11/dist-packages/sklearn/linear_model/_logistic.py:465: ConvergenceWarning: lbfgs failed to converge (status=1):\n",
            "STOP: TOTAL NO. of ITERATIONS REACHED LIMIT.\n",
            "\n",
            "Increase the number of iterations (max_iter) or scale the data as shown in:\n",
            "    https://scikit-learn.org/stable/modules/preprocessing.html\n",
            "Please also refer to the documentation for alternative solver options:\n",
            "    https://scikit-learn.org/stable/modules/linear_model.html#logistic-regression\n",
            "  n_iter_i = _check_optimize_result(\n",
            "/usr/local/lib/python3.11/dist-packages/sklearn/linear_model/_logistic.py:465: ConvergenceWarning: lbfgs failed to converge (status=1):\n",
            "STOP: TOTAL NO. of ITERATIONS REACHED LIMIT.\n",
            "\n",
            "Increase the number of iterations (max_iter) or scale the data as shown in:\n",
            "    https://scikit-learn.org/stable/modules/preprocessing.html\n",
            "Please also refer to the documentation for alternative solver options:\n",
            "    https://scikit-learn.org/stable/modules/linear_model.html#logistic-regression\n",
            "  n_iter_i = _check_optimize_result(\n",
            "/usr/local/lib/python3.11/dist-packages/sklearn/linear_model/_logistic.py:465: ConvergenceWarning: lbfgs failed to converge (status=1):\n",
            "STOP: TOTAL NO. of ITERATIONS REACHED LIMIT.\n",
            "\n",
            "Increase the number of iterations (max_iter) or scale the data as shown in:\n",
            "    https://scikit-learn.org/stable/modules/preprocessing.html\n",
            "Please also refer to the documentation for alternative solver options:\n",
            "    https://scikit-learn.org/stable/modules/linear_model.html#logistic-regression\n",
            "  n_iter_i = _check_optimize_result(\n",
            "/usr/local/lib/python3.11/dist-packages/sklearn/linear_model/_logistic.py:465: ConvergenceWarning: lbfgs failed to converge (status=1):\n",
            "STOP: TOTAL NO. of ITERATIONS REACHED LIMIT.\n",
            "\n",
            "Increase the number of iterations (max_iter) or scale the data as shown in:\n",
            "    https://scikit-learn.org/stable/modules/preprocessing.html\n",
            "Please also refer to the documentation for alternative solver options:\n",
            "    https://scikit-learn.org/stable/modules/linear_model.html#logistic-regression\n",
            "  n_iter_i = _check_optimize_result(\n",
            "/usr/local/lib/python3.11/dist-packages/sklearn/linear_model/_logistic.py:465: ConvergenceWarning: lbfgs failed to converge (status=1):\n",
            "STOP: TOTAL NO. of ITERATIONS REACHED LIMIT.\n",
            "\n",
            "Increase the number of iterations (max_iter) or scale the data as shown in:\n",
            "    https://scikit-learn.org/stable/modules/preprocessing.html\n",
            "Please also refer to the documentation for alternative solver options:\n",
            "    https://scikit-learn.org/stable/modules/linear_model.html#logistic-regression\n",
            "  n_iter_i = _check_optimize_result(\n",
            "/usr/local/lib/python3.11/dist-packages/sklearn/linear_model/_logistic.py:465: ConvergenceWarning: lbfgs failed to converge (status=1):\n",
            "STOP: TOTAL NO. of ITERATIONS REACHED LIMIT.\n",
            "\n",
            "Increase the number of iterations (max_iter) or scale the data as shown in:\n",
            "    https://scikit-learn.org/stable/modules/preprocessing.html\n",
            "Please also refer to the documentation for alternative solver options:\n",
            "    https://scikit-learn.org/stable/modules/linear_model.html#logistic-regression\n",
            "  n_iter_i = _check_optimize_result(\n"
          ]
        },
        {
          "output_type": "stream",
          "name": "stdout",
          "text": [
            "Cross-Validation Score (No Scaling): 0.986\n",
            "\n",
            "--- Penalized Logistic Regression WITH Scaling ---\n",
            "Training set score (With Scaling): 0.994\n",
            "Test set score (With Scaling): 0.991\n",
            "Cross-Validation Score (With Scaling): 0.994\n"
          ]
        },
        {
          "output_type": "stream",
          "name": "stderr",
          "text": [
            "/usr/local/lib/python3.11/dist-packages/sklearn/linear_model/_logistic.py:465: ConvergenceWarning: lbfgs failed to converge (status=1):\n",
            "STOP: TOTAL NO. of ITERATIONS REACHED LIMIT.\n",
            "\n",
            "Increase the number of iterations (max_iter) or scale the data as shown in:\n",
            "    https://scikit-learn.org/stable/modules/preprocessing.html\n",
            "Please also refer to the documentation for alternative solver options:\n",
            "    https://scikit-learn.org/stable/modules/linear_model.html#logistic-regression\n",
            "  n_iter_i = _check_optimize_result(\n"
          ]
        }
      ]
    },
    {
      "cell_type": "markdown",
      "source": [
        "Penalized logistic regression is similarly dependent on scaling."
      ],
      "metadata": {
        "id": "QUFHAm_z-ubn"
      }
    },
    {
      "cell_type": "code",
      "source": [
        "from sklearn.neighbors import KNeighborsClassifier\n",
        "from sklearn.preprocessing import StandardScaler\n",
        "from sklearn.model_selection import train_test_split, cross_val_score\n",
        "import numpy as np\n",
        "\n",
        "# Define features (X) and target (y)\n",
        "X = df_combined[['fixed acidity', 'volatile acidity', 'citric acid',\\\n",
        "                 'residual sugar',\n",
        "                 'chlorides', 'free sulfur dioxide', 'total sulfur dioxide',\n",
        "                 'density',\n",
        "                 'sulphates', 'alcohol', 'quality']]\n",
        "y = df_combined['winetype']\n",
        "\n",
        "# Split the dataset\n",
        "X_train_wine, X_test_wine, y_train_wine, y_test_wine =\\\n",
        " train_test_split(X, y, random_state=42)\n",
        "\n",
        "### **1. KNN Classification WITHOUT Scaling**\n",
        "knn_no_scaling = KNeighborsClassifier(n_neighbors=5)\n",
        "knn_no_scaling.fit(X_train_wine, y_train_wine)\n",
        "\n",
        "print(\"\\n--- KNN Classification WITHOUT Scaling ---\")\n",
        "print(\"Training set score (No Scaling): {:.3f}\".format\\\n",
        " (knn_no_scaling.score(X_train_wine, y_train_wine)))\n",
        "print(\"Test set score (No Scaling): {:.3f}\".format\\\n",
        " (knn_no_scaling.score(X_test_wine, y_test_wine)))\n",
        "\n",
        "knn_cv_score_no_scaling = np.mean(cross_val_score\\\n",
        " (knn_no_scaling, X_train_wine, y_train_wine, cv=10, scoring='accuracy'))\n",
        "print(\"Cross-Validation Score (No Scaling): {:.3f}\"\\\n",
        "      .format(knn_cv_score_no_scaling))\n",
        "\n",
        "### **2. KNN Classification WITH Scaling**\n",
        "scaler = StandardScaler()\n",
        "X_train_scaled_wine = scaler.fit_transform(X_train_wine)\n",
        "X_test_scaled_wine = scaler.transform(X_test_wine)\n",
        "\n",
        "knn_scaled = KNeighborsClassifier(n_neighbors=5)\n",
        "knn_scaled.fit(X_train_scaled_wine, y_train_wine)\n",
        "\n",
        "print(\"\\n--- KNN Classification WITH Scaling ---\")\n",
        "print(\"Training set score (With Scaling): {:.3f}\"\\\n",
        "      .format(knn_scaled.score(X_train_scaled_wine, y_train_wine)))\n",
        "print(\"Test set score (With Scaling): {:.3f}\"\\\n",
        "      .format(knn_scaled.score(X_test_scaled_wine, y_test_wine)))\n",
        "\n",
        "knn_cv_score_scaled = np.mean(cross_val_score\\\n",
        " (knn_scaled, X_train_scaled_wine, y_train_wine, cv=10, scoring='accuracy'))\n",
        "print(\"Cross-Validation Score (With Scaling): {:.3f}\"\\\n",
        "      .format(knn_cv_score_scaled))\n"
      ],
      "metadata": {
        "colab": {
          "base_uri": "https://localhost:8080/"
        },
        "id": "xeVuw9AU_Ery",
        "outputId": "babaeda9-bcba-4725-8af8-1dd63c89cf21"
      },
      "execution_count": null,
      "outputs": [
        {
          "output_type": "stream",
          "name": "stdout",
          "text": [
            "\n",
            "--- KNN Classification WITHOUT Scaling ---\n",
            "Training set score (No Scaling): 0.957\n",
            "Test set score (No Scaling): 0.938\n",
            "Cross-Validation Score (No Scaling): 0.940\n",
            "\n",
            "--- KNN Classification WITH Scaling ---\n",
            "Training set score (With Scaling): 0.995\n",
            "Test set score (With Scaling): 0.991\n",
            "Cross-Validation Score (With Scaling): 0.993\n"
          ]
        }
      ]
    },
    {
      "cell_type": "markdown",
      "source": [
        "KNN performs significantly worse without scaling."
      ],
      "metadata": {
        "id": "0eKdPOg-_YQr"
      }
    },
    {
      "cell_type": "markdown",
      "source": [
        "#Tuning the model by optimizing hyperparameters"
      ],
      "metadata": {
        "id": "ZQZztpjqAGFa"
      }
    },
    {
      "cell_type": "code",
      "source": [
        "#Log Reg - tuning hyperparamters\n",
        "from sklearn.preprocessing import StandardScaler\n",
        "from sklearn.model_selection import train_test_split, GridSearchCV,\\\n",
        " cross_val_score\n",
        "from sklearn.linear_model import LogisticRegression\n",
        "import numpy as np\n",
        "\n",
        "# Define features (X) and target (y)\n",
        "X = df_combined[['fixed acidity', 'volatile acidity', 'citric acid',\\\n",
        "                 'residual sugar',\n",
        "                 'chlorides', 'free sulfur dioxide', 'total sulfur dioxide',\\\n",
        "                 'density',\n",
        "                 'sulphates', 'alcohol', 'quality']]\n",
        "y = df_combined['winetype']\n",
        "\n",
        "# Split the dataset\n",
        "X_train_wine, X_test_wine, y_train_wine, y_test_wine = \\\n",
        "train_test_split(X, y, random_state=42)\n",
        "\n",
        "# Standardize features\n",
        "scaler = StandardScaler()\n",
        "X_train_scaled_wine = scaler.fit_transform(X_train_wine)\n",
        "X_test_scaled_wine = scaler.transform(X_test_wine)\n",
        "\n",
        "# Define Logistic Regression model\n",
        "logreg = LogisticRegression(max_iter=500)\n",
        "\n",
        "# Set up hyperparameter grid\n",
        "param_grid = {\n",
        "    'C': [0.001, 0.01, 0.1, 1, 10, 100],  # Regularization strength\n",
        "    'penalty': ['l1', 'l2'],  # L1 (Lasso) or L2 (Ridge) regularization\n",
        "    'solver': ['liblinear', 'saga']  # Solvers that support L1 and L2 penalties\n",
        "}\n",
        "\n",
        "# Perform GridSearchCV\n",
        "grid_search = GridSearchCV(logreg, param_grid, cv=5, scoring='accuracy', \\\n",
        "                           n_jobs=-1)\n",
        "grid_search.fit(X_train_scaled_wine, y_train_wine)\n",
        "\n",
        "# Best parameters and best score\n",
        "print(\"\\n--- Best Hyperparameters from GridSearchCV ---\")\n",
        "print(\"Best parameters:\", grid_search.best_params_)\n",
        "print(\"Best cross-validation accuracy: {:.3f}\".format(grid_search.best_score_))\n",
        "\n",
        "# Train model with best parameters\n",
        "best_logreg = grid_search.best_estimator_\n",
        "print(\"\\n--- Tuned Logistic Regression Model ---\")\n",
        "print(\"Training set score: {:.3f}\".format(best_logreg.score\\\n",
        " (X_train_scaled_wine, y_train_wine)))\n",
        "print(\"Test set score: {:.3f}\".format(best_logreg.score\\\n",
        " (X_test_scaled_wine, y_test_wine)))\n",
        "\n",
        "# Cross-validation score with best parameters\n",
        "best_logreg_cv_score = np.mean(cross_val_score(best_logreg, \\\n",
        "X_train_scaled_wine, y_train_wine, cv=10, scoring='accuracy'))\n",
        "print(\"Logistic Regression Cross-Validation Score (Tuned Model): \\\n",
        "{:.3f}\".format(best_logreg_cv_score))\n"
      ],
      "metadata": {
        "colab": {
          "base_uri": "https://localhost:8080/"
        },
        "id": "bkyAqWcD_eW_",
        "outputId": "aabea5ee-37d5-4dc7-ce30-421094e8edf4"
      },
      "execution_count": null,
      "outputs": [
        {
          "output_type": "stream",
          "name": "stdout",
          "text": [
            "\n",
            "--- Best Hyperparameters from GridSearchCV ---\n",
            "Best parameters: {'C': 10, 'penalty': 'l1', 'solver': 'liblinear'}\n",
            "Best cross-validation accuracy: 0.994\n",
            "\n",
            "--- Tuned Logistic Regression Model ---\n",
            "Training set score: 0.994\n",
            "Test set score: 0.991\n",
            "Logistic Regression Cross-Validation Score (Tuned Model): 0.994\n"
          ]
        }
      ]
    },
    {
      "cell_type": "markdown",
      "source": [
        "Even with the optimal penalties applied, the logistic regression's accuracy stays at around 99.1%."
      ],
      "metadata": {
        "id": "HGwSFSOuAjD2"
      }
    },
    {
      "cell_type": "code",
      "source": [
        "#KNN - optimizing k\n",
        "\n",
        "from sklearn.neighbors import KNeighborsClassifier\n",
        "from sklearn.preprocessing import StandardScaler\n",
        "from sklearn.model_selection import train_test_split, GridSearchCV, \\\n",
        "cross_val_score\n",
        "import numpy as np\n",
        "\n",
        "# Define features (X) and target (y)\n",
        "X = df_combined[['fixed acidity', 'volatile acidity', 'citric acid', \\\n",
        "                 'residual sugar',\n",
        "                 'chlorides', 'free sulfur dioxide', 'total sulfur dioxide',\\\n",
        "                 'density',\n",
        "                 'sulphates', 'alcohol', 'quality']]\n",
        "y = df_combined['winetype']\n",
        "\n",
        "# Split the dataset\n",
        "X_train_wine, X_test_wine, y_train_wine, y_test_wine = train_test_split(X, y,\\\n",
        " random_state=42)\n",
        "\n",
        "# Standardize features\n",
        "scaler = StandardScaler()\n",
        "X_train_scaled_wine = scaler.fit_transform(X_train_wine)\n",
        "X_test_scaled_wine = scaler.transform(X_test_wine)\n",
        "\n",
        "# Define the KNN classifier\n",
        "knn = KNeighborsClassifier()\n",
        "\n",
        "# Define hyperparameter grid for `n_neighbors`\n",
        "param_grid = {\n",
        "    'n_neighbors': list(range(1, 31, 2))  # Testing odd k-values from 1 to 31\n",
        "}\n",
        "\n",
        "# Perform GridSearchCV\n",
        "grid_search = GridSearchCV(knn, param_grid, cv=5, scoring='accuracy', n_jobs=-1)\n",
        "grid_search.fit(X_train_scaled_wine, y_train_wine)\n",
        "\n",
        "# Best parameters and best score\n",
        "print(\"\\n--- Best Hyperparameters from GridSearchCV ---\")\n",
        "print(\"Best k-value:\", grid_search.best_params_['n_neighbors'])\n",
        "print(\"Best cross-validation accuracy: {:.3f}\".format(grid_search.best_score_))\n",
        "\n",
        "# Train model with best k-value\n",
        "best_knn = grid_search.best_estimator_\n",
        "print(\"\\n--- Tuned KNN Model ---\")\n",
        "print(\"Training set score: {:.3f}\".format(best_knn.score\\\n",
        " (X_train_scaled_wine, y_train_wine)))\n",
        "print(\"Test set score: {:.3f}\".format(best_knn.score\\\n",
        " (X_test_scaled_wine, y_test_wine)))\n",
        "\n",
        "# Cross-validation score with best k-value\n",
        "best_knn_cv_score = np.mean(cross_val_score(best_knn, \\\n",
        "X_train_scaled_wine, y_train_wine, cv=10, scoring='accuracy'))\n",
        "print(\"KNN Cross-Validation Score (Tuned Model): {:.3f}\"\\\n",
        "      .format(best_knn_cv_score))\n"
      ],
      "metadata": {
        "colab": {
          "base_uri": "https://localhost:8080/"
        },
        "id": "EAqZb1xcAFng",
        "outputId": "942d8a15-a107-4961-f222-ea5147184b96"
      },
      "execution_count": null,
      "outputs": [
        {
          "output_type": "stream",
          "name": "stdout",
          "text": [
            "\n",
            "--- Best Hyperparameters from GridSearchCV ---\n",
            "Best k-value: 3\n",
            "Best cross-validation accuracy: 0.994\n",
            "\n",
            "--- Tuned KNN Model ---\n",
            "Training set score: 0.997\n",
            "Test set score: 0.991\n",
            "KNN Cross-Validation Score (Tuned Model): 0.994\n"
          ]
        }
      ]
    },
    {
      "cell_type": "markdown",
      "source": [
        "The optimal k-value turns out to be k = 3"
      ],
      "metadata": {
        "id": "dUs2riDNBpEg"
      }
    },
    {
      "cell_type": "markdown",
      "source": [
        "#Comparing the coefficients of the two best-performing models"
      ],
      "metadata": {
        "id": "9xeHWV9jFOZk"
      }
    },
    {
      "cell_type": "code",
      "source": [
        "import pandas as pd\n",
        "\n",
        "# Fit logreg with the training data to obtain coefficients\n",
        "logreg.fit(X_train_scaled_wine, y_train_wine)  # Fit the model\n",
        "\n",
        "\n",
        "# Convert coefficients to a DataFrame for better readability\n",
        "wine_coef_df = pd.DataFrame({\n",
        "    'Feature': X.columns,\n",
        "    'Logistic Regression': logreg.coef_.flatten(),\n",
        "    'Penalized Logistic Regression': best_logreg.coef_.flatten()\n",
        "})\n",
        "\n",
        "\n",
        "\n",
        "print(wine_coef_df.to_string(index=False))\n"
      ],
      "metadata": {
        "colab": {
          "base_uri": "https://localhost:8080/"
        },
        "id": "c13XVVCLB4qH",
        "outputId": "68144c5f-ba59-49fe-e1b9-9ef6523853c0"
      },
      "execution_count": null,
      "outputs": [
        {
          "output_type": "stream",
          "name": "stdout",
          "text": [
            "             Feature  Logistic Regression  Penalized Logistic Regression\n",
            "       fixed acidity             0.336117                       0.212117\n",
            "    volatile acidity             1.470003                       1.573980\n",
            "         citric acid            -0.322479                      -0.284323\n",
            "      residual sugar            -3.659727                      -4.876201\n",
            "           chlorides             0.780198                       0.780465\n",
            " free sulfur dioxide             0.911066                       1.272643\n",
            "total sulfur dioxide            -2.836146                      -3.153148\n",
            "             density             3.526770                       4.504795\n",
            "           sulphates             0.747714                       0.628537\n",
            "             alcohol             1.056778                       1.493743\n",
            "             quality             0.295514                       0.344259\n"
          ]
        }
      ]
    },
    {
      "cell_type": "markdown",
      "source": [
        "The models agree that density, residual sugar and total sulfur dioxide to be the most important variables."
      ],
      "metadata": {
        "id": "Zyk55JZXBwev"
      }
    },
    {
      "cell_type": "markdown",
      "source": [
        "#Conclusion\n",
        "The two versions of Logistic Regression demonstrated the highest accuracy, however there was no significant difference between them. Nevertheless, I would choose the penalized version as it regularizes the variables, such that it becomes easier to distiguish the most important variables. This suggest it could have better generalizability."
      ],
      "metadata": {
        "id": "rJMkYnQCFQWj"
      }
    }
  ]
}